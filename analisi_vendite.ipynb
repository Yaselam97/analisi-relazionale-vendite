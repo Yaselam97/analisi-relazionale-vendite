{
 "cells": [
  {
   "cell_type": "code",
   "execution_count": null,
   "id": "a27de84b",
   "metadata": {},
   "outputs": [],
   "source": [
    "import sqlite3\n",
    "import pandas as pd\n",
    "import matplotlib.pyplot as plt\n",
    "\n",
    "conn = sqlite3.connect(\"vendite.db\")\n",
    "query = \"\"\"\n",
    "SELECT v.data, c.nome AS cliente, v.prodotto, v.quantità, v.prezzo_unitario,\n",
    "       v.quantità * v.prezzo_unitario AS ricavo\n",
    "FROM vendite v\n",
    "JOIN clienti c ON v.cliente_id = c.id\n",
    "\"\"\"\n",
    "df = pd.read_sql_query(query, conn)\n",
    "conn.close()\n",
    "df.head()\n"
   ]
  },
  {
   "cell_type": "code",
   "execution_count": null,
   "id": "c81b91e3",
   "metadata": {},
   "outputs": [],
   "source": [
    "totale_vendite = df.groupby('cliente')['ricavo'].sum().reset_index()\n",
    "totale_vendite.columns = ['cliente', 'totale_vendite']\n",
    "\n",
    "totale_prodotti = df.groupby('prodotto')['ricavo'].sum().reset_index()\n",
    "totale_prodotti.columns = ['prodotto', 'totale_vendite']\n",
    "\n",
    "totale_giorni = df.groupby('data')['ricavo'].sum().reset_index()\n",
    "totale_giorni.columns = ['data', 'totale_vendite']\n",
    "totale_giorni['data'] = pd.to_datetime(totale_giorni['data'])\n"
   ]
  },
  {
   "cell_type": "code",
   "execution_count": null,
   "id": "ad1c0b8b",
   "metadata": {},
   "outputs": [],
   "source": [
    "plt.bar(totale_vendite['cliente'], totale_vendite['totale_vendite'])\n",
    "plt.title(\"Ricavi per Cliente\")\n",
    "plt.xlabel(\"Cliente\")\n",
    "plt.ylabel(\"Totale Vendite (€)\")\n",
    "plt.xticks(rotation=45)\n",
    "plt.tight_layout()\n",
    "plt.savefig(\"grafico_ricavi_clienti.png\")\n",
    "plt.show()\n"
   ]
  },
  {
   "cell_type": "code",
   "execution_count": null,
   "id": "bd4b0981",
   "metadata": {},
   "outputs": [],
   "source": [
    "plt.bar(totale_prodotti['prodotto'], totale_prodotti['totale_vendite'])\n",
    "plt.title(\"Ricavi per Prodotto\")\n",
    "plt.xlabel(\"Prodotto\")\n",
    "plt.ylabel(\"Totale Vendite (€)\")\n",
    "plt.tight_layout()\n",
    "plt.savefig(\"grafico_ricavi_prodotti.png\")\n",
    "plt.show()\n"
   ]
  },
  {
   "cell_type": "code",
   "execution_count": null,
   "id": "51d59d28",
   "metadata": {},
   "outputs": [],
   "source": [
    "plt.plot(totale_giorni['data'], totale_giorni['totale_vendite'], marker='o')\n",
    "plt.title(\"Ricavi Giornalieri\")\n",
    "plt.xlabel(\"Data\")\n",
    "plt.ylabel(\"Totale Vendite (€)\")\n",
    "plt.grid(True)\n",
    "plt.tight_layout()\n",
    "plt.savefig(\"grafico_ricavi_temporali.png\")\n",
    "plt.show()\n"
   ]
  },
  {
   "cell_type": "markdown",
   "id": "01fa139a",
   "metadata": {},
   "source": [
    "### 📌 Conclusioni\n",
    "\n",
    "- I clienti con maggiore spesa sono Marco Gialli e Giulia Bianchi.\n",
    "- I prodotti più redditizi sono Yogurt e Uova.\n",
    "- I picchi di ricavi sono ben visibili nei giorni 5 e 10 maggio.\n",
    "- L’intero progetto è costruito con SQLite, SQL, Pandas e Matplotlib.\n"
   ]
  }
 ],
 "metadata": {
  "language_info": {
   "name": "python"
  }
 },
 "nbformat": 4,
 "nbformat_minor": 5
}
